{
 "cells": [
  {
   "cell_type": "markdown",
   "metadata": {
    "id": "Op_FbrczZGkf"
   },
   "source": [
    "# **Error Correction with the Shor Code**\n",
    "---\n",
    "\n",
    "## **Introduction** \n",
    "This project extends your work in Week 21 to implement, simulate, and analyze the first ever error correction code proposed that can handle *any* single qubit errors (bit-flips, phase-flips, or others) using the Shor code (Sho95).\n",
    "\n",
    "<br>\n",
    "\n",
    "## **Description**\n",
    "The Shor code is a natural extension of the Bit- and Phase- flip codes that avoid syndrome measurements where:\n",
    "\n",
    "* A **bit-flip error** means $|0\\rangle$ unintentionally turning into $|1\\rangle$ or vice versa.\n",
    "* A **phase-flip error** means $|+\\rangle$ unintentionally turning into $|-\\rangle$ or vice versa.\n",
    "\n",
    "This code can be viewed as two levels of quantum error correction where:\n",
    "1. The logical qubits are first encoded into a 3-qubit phase-flip code.\n",
    "1. Each of the resulting physical qubits are encoded into a 3-qubit bit-flip code.\n",
    "\n",
    "<br>\n",
    "\n",
    "## **Key Questions**\n",
    "In this project, you will answer the following questions:\n",
    "1. How does using the Shor code compare to using no error correction? Are there any trends you notice?\n",
    "\n",
    "1. When using the Shor code, how does the average fidelity change with increasing probability of errors? Why is this?\n",
    "\n",
    "1. Are there any unexpected patterns in the average fidelity? Why do you think they might be happening if so?\n",
    "\n",
    "<br>\n",
    "\n",
    "## **Structure**\n",
    "This project is broken into 3 parts:\n",
    "> **Part 1**: Defining the Components\n",
    ">\n",
    ">> **Part 1.1**: The Phase-Flip Code\n",
    ">>\n",
    ">> **Part 1.2**: The Bit-Flip Code\n",
    ">\n",
    "> **Part 2**: Implementing the Shor Code\n",
    ">\n",
    "> **Part 3**: Analyzing the Shor Code\n",
    ">\n",
    "> **Wrapping Up**\n",
    "\n",
    "<br>\n",
    "\n",
    "## **Resources**\n",
    "* [Week 21 Lab Solutions (Bit-Flip Code and Noise Models)](https://drive.google.com/file/d/1nbNfFwUp4eefAR95AG5q_nKSNAMgLmsc/view?usp=share_link)\n",
    "* [Week 21 Homework Solutions (Phase-Flip Code)](https://colab.research.google.com/drive/1BYZrbBJKTtCCm11Z7No6rNN114fgllhU?usp=sharing)\n",
    "* [Qiskit's `circuit.compose(...)` function documentation](https://qiskit.org/documentation/stubs/qiskit.circuit.QuantumCircuit.compose.html)\n",
    "* [Qiskit's `Statevector(...)` documentation](https://qiskit.org/documentation/stubs/qiskit.quantum_info.Statevector.html)\n",
    "* [Quantum Error Correction for Beginners](https://arxiv.org/pdf/0905.2794.pdf)\n",
    "* [Scheme for reducing decoherence in quantum computer memory](https://journals.aps.org/pra/abstract/10.1103/PhysRevA.52.R2493): The original paper from by Shor proposing this code (behind a paywall)\n",
    "\n",
    "---"
   ]
  },
  {
   "cell_type": "markdown",
   "metadata": {
    "id": "eb449362-eeb9-437f-a63c-84935c496bd1"
   },
   "source": [
    "## **Part 0: Importing from Qiskit**\n",
    "---\n",
    "\n",
    "**Run the code below to import everything needed for this lab.**"
   ]
  },
  {
   "cell_type": "code",
   "execution_count": 1,
   "metadata": {
    "id": "_nvE4CopMt_N",
    "tags": []
   },
   "outputs": [
    {
     "name": "stdout",
     "output_type": "stream",
     "text": [
      "Libraries Imported Successfully!\n"
     ]
    }
   ],
   "source": [
    "#!pip install qiskit\n",
    "\n",
    "from qiskit import QuantumCircuit, Aer, transpile, assemble, execute, Aer, IBMQ\n",
    "from qiskit.visualization import plot_histogram\n",
    "from qiskit.circuit.random import random_circuit\n",
    "from qiskit.quantum_info import Statevector, partial_trace, state_fidelity\n",
    "\n",
    "from random import random\n",
    "import matplotlib.pyplot as plt\n",
    "\n",
    "import warnings\n",
    "warnings.filterwarnings('ignore')\n",
    "\n",
    "#provider = IBMQ.load_account()\n",
    "\n",
    "print(\"Libraries Imported Successfully!\")"
   ]
  },
  {
   "cell_type": "markdown",
   "metadata": {
    "id": "xk3_cvzKQcab"
   },
   "source": [
    "## **Part 1: Defining the Components**\n",
    "---\n",
    "\n",
    "In this section, we will define the key components of the Shor code through these parts:\n",
    "\n",
    "**Part 1.1**: The 3-qubit phase-flip code.\n",
    "\n",
    "**Part 1.2**: The 3-qubit bit-flip code."
   ]
  },
  {
   "cell_type": "markdown",
   "metadata": {
    "id": "H3gNn5rGTE11"
   },
   "source": [
    "---\n",
    "### **Part 1.1: The Phase-Flip Code**\n",
    "\n",
    "\n",
    "In this section, we will define two circuits pertaining to the phase-flip code:\n",
    "1. `phaseflip_encode`: A 3-qubit phase-flip logical to physical encoding.\n",
    "1. `phaseflip_correct`: A 3-qubit phase-flip physical error detection and correction circuit.\n"
   ]
  },
  {
   "cell_type": "markdown",
   "metadata": {
    "id": "Oo95KzOmTxBe"
   },
   "source": [
    "#### **Exercise #1**\n",
    "\n",
    "Create the `phaseflip_encode` circuit that encodes a logical state into a 3-qubit phase-flip code. Specifically,\n",
    "\n",
    "1. Initialize a circuit with 3 qubits.\n",
    "\n",
    "2. Entangle the state of $q_0$ with the other qubits.\n",
    "\n",
    "3. Put all qubits in equal superpositions to correct $|+\\rangle$ and $|-\\rangle$ states from switching instead of $|0\\rangle$ and $|1\\rangle$."
   ]
  },
  {
   "cell_type": "markdown",
   "metadata": {
    "id": "F9gT3a7TUFH8"
   },
   "source": [
    "##### **1. Initialize a circuit with 3 qubits.**\n",
    "\n",
    "The first qubit, $q_0$, will be the qubit we are correcting. The second and third qubits, $q_1$ and $q_2$, will be ancillary qubits used for correcting the first qubit."
   ]
  },
  {
   "cell_type": "code",
   "execution_count": 2,
   "metadata": {
    "id": "N0xcW-aLUFH8",
    "tags": []
   },
   "outputs": [],
   "source": [
    "phaseflip_encode = QuantumCircuit(3,1)"
   ]
  },
  {
   "cell_type": "markdown",
   "metadata": {
    "id": "X5A0W7slUFH8"
   },
   "source": [
    "##### **2. Entangle the state of $q_0$ with the other two qubits.**\n",
    "\n",
    "This can be accomplished by applying two CNOT gates controlled by $q_0$ and targeting the other qubits, $q_1$ and $q_2$."
   ]
  },
  {
   "cell_type": "code",
   "execution_count": 3,
   "metadata": {
    "id": "9f9lZWBdUFH8",
    "tags": []
   },
   "outputs": [
    {
     "data": {
      "text/plain": [
       "<qiskit.circuit.instructionset.InstructionSet at 0x7fb105f66440>"
      ]
     },
     "execution_count": 3,
     "metadata": {},
     "output_type": "execute_result"
    }
   ],
   "source": [
    "phaseflip_encode.cx(0,1)\n",
    "phaseflip_encode.cx(0,2)"
   ]
  },
  {
   "cell_type": "markdown",
   "metadata": {
    "id": "qzwqjvUaUFH8"
   },
   "source": [
    "##### **3. Put all qubits in equal superpositions to correct $|+\\rangle$ and $|-\\rangle$ states from flipping instead of $|0\\rangle$ and $|1\\rangle$.**"
   ]
  },
  {
   "cell_type": "code",
   "execution_count": 4,
   "metadata": {
    "id": "844hx9XAUFH8",
    "tags": []
   },
   "outputs": [
    {
     "data": {
      "image/png": "[encoded data removed]",
      "text/plain": [
       "<Figure size 371.107x367.889 with 1 Axes>"
      ]
     },
     "execution_count": 4,
     "metadata": {},
     "output_type": "execute_result"
    }
   ],
   "source": [
    "phaseflip_encode.h(0)\n",
    "phaseflip_encode.h(1)\n",
    "phaseflip_encode.h(2)\n",
    "\n",
    "\n",
    "phaseflip_encode.draw()"
   ]
  },
  {
   "cell_type": "markdown",
   "metadata": {
    "id": "I6MygIjBUp60"
   },
   "source": [
    "#### **Exercise #2**\n",
    "\n",
    "Create the `phaseflip_correct` circuit that detects and corrects errors in a 3-qubit phase-flip code. Specifically,\n",
    "\n",
    "1. Initialize a circuit with 3 qubits.\n",
    "\n",
    "2. Detect any errors by checking that the phases of the 3 qubits match using H gates and CNOTs.\n",
    "\n",
    "3. Correct any errors using a Toffoli gate."
   ]
  },
  {
   "cell_type": "markdown",
   "metadata": {
    "id": "Hla9SzKOVPKB"
   },
   "source": [
    "##### **1. Initialize a circuit with 3 qubits.**\n",
    "\n",
    "The first qubit, $q_0$, will be the qubit we are correcting. The second and third qubits, $q_1$ and $q_2$, will be ancillary qubits used for correcting the first qubit."
   ]
  },
  {
   "cell_type": "code",
   "execution_count": 5,
   "metadata": {
    "id": "VS6z0gTAVPKC",
    "tags": []
   },
   "outputs": [],
   "source": [
    "phaseflip_correct = QuantumCircuit(3,1)"
   ]
  },
  {
   "cell_type": "markdown",
   "metadata": {
    "id": "eK4e073kVCk7"
   },
   "source": [
    "##### **2. Detect any errors by checking that the phases of the 3 qubits match using H gates and CNOTs.**\n",
    "\n"
   ]
  },
  {
   "cell_type": "code",
   "execution_count": 6,
   "metadata": {
    "id": "vsNYjeLGVCk7",
    "tags": []
   },
   "outputs": [
    {
     "data": {
      "image/png": "[encoded data removed]",
      "text/plain": [
       "<Figure size 371.107x367.889 with 1 Axes>"
      ]
     },
     "execution_count": 6,
     "metadata": {},
     "output_type": "execute_result"
    }
   ],
   "source": [
    "phaseflip_correct.cx(0,1)\n",
    "phaseflip_correct.cx(0,2)\n",
    "phaseflip_correct.h(0)\n",
    "phaseflip_correct.h(1)\n",
    "phaseflip_correct.h(2)\n",
    "# COMPLETE THIS CODE\n",
    "\n",
    "phaseflip_correct.draw()"
   ]
  },
  {
   "cell_type": "markdown",
   "metadata": {
    "id": "u5672Yw4VCk8"
   },
   "source": [
    "##### **3. Correct any errors using a Toffoli gate.**\n",
    "\n"
   ]
  },
  {
   "cell_type": "code",
   "execution_count": 7,
   "metadata": {
    "id": "w_HBnm1YVCk8",
    "tags": []
   },
   "outputs": [
    {
     "data": {
      "image/png": "[encoded data removed]",
      "text/plain": [
       "<Figure size 454.719x367.889 with 1 Axes>"
      ]
     },
     "execution_count": 7,
     "metadata": {},
     "output_type": "execute_result"
    }
   ],
   "source": [
    "phaseflip_correct.ccx(1,2,0)\n",
    "\n",
    "# COMPLETE THIS CODE\n",
    "\n",
    "phaseflip_correct.draw()"
   ]
  },
  {
   "cell_type": "markdown",
   "metadata": {
    "id": "-DNbB3YhWGTx"
   },
   "source": [
    "#### **Exercise #3**\n",
    "\n",
    "Simulate the full phase-flip code for the $|+\\rangle$ state without errors as follows:\n",
    "1. Combine the encoding and correcting circuits using `.compose(...)`.\n",
    "1. Compare the initial and final statevector."
   ]
  },
  {
   "cell_type": "markdown",
   "metadata": {
    "id": "Fm2655UnWoQq"
   },
   "source": [
    "##### **1. Combine the encoding and correcting circuits using `.compose(...)`.**\n",
    "\n",
    "Qiskit's `.compose(...)` function allows us to combine different circuits in a number of ways. We will use this throughout the notebook to build up a full Shor code, but since this is the first time you are seeing it we have provided it for you.\n",
    "\n",
    "**Run the code below to compose the encoding and correcting circuits.**"
   ]
  },
  {
   "cell_type": "code",
   "execution_count": 15,
   "metadata": {
    "id": "N7exyEQLWoQz",
    "tags": []
   },
   "outputs": [
    {
     "name": "stdout",
     "output_type": "stream",
     "text": [
      "Traceback \u001b[1;36m(most recent call last)\u001b[0m:\n",
      "\u001b[1;36m  Cell \u001b[1;32mIn[15], line 7\u001b[1;36m\n",
      "\u001b[1;33m    full_code.save()\u001b[1;36m\n",
      "\u001b[1;31mAttributeError\u001b[0m\u001b[1;31m:\u001b[0m 'QuantumCircuit' object has no attribute 'save'\n",
      "\n",
      "Use %tb to get the full traceback.\n"
     ]
    },
    {
     "data": {
      "text/html": [
       "\n",
       "<style>\n",
       ".button {\n",
       "  border: none;\n",
       "  color: white;\n",
       "  padding: 4px 8px;\n",
       "  text-align: center;\n",
       "  text-decoration: none;\n",
       "  display: inline-block;\n",
       "  font-size: 12px;\n",
       "  margin: 4px 2px;\n",
       "  transition-duration: 0.2s;\n",
       "  cursor: pointer;\n",
       "}\n",
       ".iqx-button {\n",
       "  background-color: #0f62fe; \n",
       "  color: white; \n",
       "}\n",
       ".iqx-button:hover {\n",
       "  background-color: #0043ce;\n",
       "  color: white;\n",
       "}\n",
       "</style>\n",
       "<a href=\"https://stackoverflow.com/search?q=AttributeError: 'QuantumCircuit' object has no attribute 'save'\" target='_blank'><button class='button iqx-button'>Search for solution online</button></a>\n"
      ],
      "text/plain": [
       "<IPython.core.display.HTML object>"
      ]
     },
     "metadata": {},
     "output_type": "display_data"
    }
   ],
   "source": [
    "full_code = QuantumCircuit(3, 1)\n",
    "\n",
    "#==========\n",
    "full_code.cx(0,1)\n",
    "full_code.cx(0,2)\n",
    "\n",
    "#==========\n",
    "# Prepare the initial state and save its statevector\n",
    "full_code.h(0)\n",
    "\n",
    "initial_state = Statevector.from_instruction(full_code)\n",
    "initial_state = partial_trace(initial_state, [1, 2]).to_statevector()\n",
    "\n",
    "full_code = full_code.compose(phaseflip_encode, qubits = [0, 1, 2])\n",
    "full_code.barrier()\n",
    "\n",
    "\n",
    "#==========\n",
    "# ERRORS\n",
    "#==========\n",
    "# NONE IN THIS CASE\n",
    "\n",
    "full_code.barrier()\n",
    "\n",
    "\n",
    "#==========================\n",
    "# DETECTION AND CORRECTION\n",
    "full_code.cx(0,1)\n",
    "full_code.cx(0,2)\n",
    "full_code.ccx(1,2,0)\n",
    "\n",
    "#==========================\n",
    "\n",
    "full_code = full_code.compose(phaseflip_correct, qubits = [0, 1, 2])\n",
    "\n",
    "# Save the final statevector for comparison to the initial one\n",
    "full_code.measure(0,0)\n",
    "\n",
    "\n",
    "final_state = Statevector.from_instruction(full_code)\n",
    "final_state = partial_trace(final_state, [1, 2]).to_statevector()\n",
    "\n",
    "full_code.draw()"
   ]
  },
  {
   "cell_type": "code",
   "execution_count": null,
   "metadata": {},
   "outputs": [],
   "source": []
  },
  {
   "cell_type": "markdown",
   "metadata": {
    "id": "msgiASLlWoQz"
   },
   "source": [
    "##### **2. Compare the initial and final statevector.**\n",
    "\n",
    "There are several ways to do this. We have provided two main ways below: using the `equiv(...)` function to calculate if they're equal and drawing the Bloch sphere of each for a visual comparison.\n",
    "\n"
   ]
  },
  {
   "cell_type": "code",
   "execution_count": 12,
   "metadata": {
    "id": "SK5OpOHjeUjq",
    "tags": []
   },
   "outputs": [
    {
     "data": {
      "text/plain": [
       "False"
      ]
     },
     "execution_count": 12,
     "metadata": {},
     "output_type": "execute_result"
    }
   ],
   "source": [
    "initial_state.equiv(final_state)"
   ]
  },
  {
   "cell_type": "code",
   "execution_count": 13,
   "metadata": {
    "id": "Wate3qs9WoQz",
    "tags": []
   },
   "outputs": [
    {
     "data": {
      "image/png": "[encoded data removed]",
      "text/plain": [
       "<Figure size 480x480 with 1 Axes>"
      ]
     },
     "execution_count": 13,
     "metadata": {},
     "output_type": "execute_result"
    }
   ],
   "source": [
    "initial_state.draw(output = 'bloch')"
   ]
  },
  {
   "cell_type": "code",
   "execution_count": 14,
   "metadata": {
    "id": "w-769QUveTUS",
    "tags": []
   },
   "outputs": [
    {
     "data": {
      "image/png": "[encoded data removed]",
      "text/plain": [
       "<Figure size 1440x480 with 3 Axes>"
      ]
     },
     "execution_count": 14,
     "metadata": {},
     "output_type": "execute_result"
    }
   ],
   "source": [
    "final_state.draw(output = 'bloch')"
   ]
  },
  {
   "cell_type": "markdown",
   "metadata": {
    "id": "WuZwM-43gI8J"
   },
   "source": [
    "#### **Exercise #4**\n",
    "\n",
    "Simulate the full phase-flip code for the $|-\\rangle$ state without errors as follows:\n",
    "1. Combine the encoding and correcting circuits using `.compose(...)`.\n",
    "1. Compare the initial and final statevector."
   ]
  },
  {
   "cell_type": "markdown",
   "metadata": {
    "id": "qRCfLJ3QgI8U"
   },
   "source": [
    "##### **1. Combine the encoding and correcting circuits using `.compose(...)`.**"
   ]
  },
  {
   "cell_type": "code",
   "execution_count": null,
   "metadata": {
    "id": "Sr9gg306gx1b"
   },
   "outputs": [],
   "source": [
    "# COMPLETE THIS CODE"
   ]
  },
  {
   "cell_type": "markdown",
   "metadata": {
    "id": "EMyemLcWgI8U"
   },
   "source": [
    "##### **2. Compare the initial and final statevector.**\n",
    "\n",
    "There are several ways to do this. We have provided two main ways below: using the `equiv(...)` function to calculate if they're equal and drawing the Bloch sphere of each for a visual comparison.\n",
    "\n"
   ]
  },
  {
   "cell_type": "code",
   "execution_count": null,
   "metadata": {
    "id": "uIPaY3qkgI8U"
   },
   "outputs": [],
   "source": [
    "initial_state.equiv(final_state)"
   ]
  },
  {
   "cell_type": "code",
   "execution_count": null,
   "metadata": {
    "id": "pmiV2V_OgI8U"
   },
   "outputs": [],
   "source": [
    "initial_state.draw(output = 'bloch')"
   ]
  },
  {
   "cell_type": "code",
   "execution_count": null,
   "metadata": {
    "id": "pohnAfiOgI8U"
   },
   "outputs": [],
   "source": [
    "final_state.draw(output = 'bloch')"
   ]
  },
  {
   "cell_type": "markdown",
   "metadata": {
    "id": "mx_Vb4migmvZ"
   },
   "source": [
    "#### **Exercise #5**\n",
    "\n",
    "Simulate the full phase-flip code for the $|-\\rangle$ state with a *phase-flip error* on qubit 0 as follows:\n",
    "1. Combine the encoding circuit, the phase-flip error, and the correcting circuit using `.compose(...)`.\n",
    "1. Compare the initial and final statevector.\n",
    "\n",
    "**NOTE**: This is identical to Exercise #4, except a phase-flip error is introduced. Consult previous work or other resources to determine how to implement a phase-flip error in a quantum circuit."
   ]
  },
  {
   "cell_type": "markdown",
   "metadata": {
    "id": "IK5886-Bgmvk"
   },
   "source": [
    "##### **1. Combine the encoding circuit, the phase-flip error, and the correcting circuit using `.compose(...)`.**"
   ]
  },
  {
   "cell_type": "code",
   "execution_count": null,
   "metadata": {
    "id": "JxG82lC8hBVC"
   },
   "outputs": [],
   "source": [
    "# COMPLETE THIS CODE"
   ]
  },
  {
   "cell_type": "markdown",
   "metadata": {
    "id": "a1HOQPVZgmvk"
   },
   "source": [
    "##### **2. Compare the initial and final statevector.**\n",
    "\n",
    "There are several ways to do this. We have provided two main ways below: using the `equiv(...)` function to calculate if they're equal and drawing the Bloch sphere of each for a visual comparison.\n",
    "\n"
   ]
  },
  {
   "cell_type": "code",
   "execution_count": null,
   "metadata": {
    "id": "EeHAXrlBgmvk"
   },
   "outputs": [],
   "source": [
    "initial_state.equiv(final_state)"
   ]
  },
  {
   "cell_type": "code",
   "execution_count": null,
   "metadata": {
    "id": "C51Bjx6Sgmvk"
   },
   "outputs": [],
   "source": [
    "initial_state.draw(output = 'bloch')"
   ]
  },
  {
   "cell_type": "code",
   "execution_count": null,
   "metadata": {
    "id": "xCs8yawSgmvk"
   },
   "outputs": [],
   "source": [
    "final_state.draw(output = 'bloch')"
   ]
  },
  {
   "cell_type": "markdown",
   "metadata": {
    "id": "m4huDz8jhhE8"
   },
   "source": [
    "#### **Exercise #6**\n",
    "\n",
    "Simulate the full phase-flip code for the $|-\\rangle$ state with a *bit-flip error* on qubit 0 as follows:\n",
    "1. Combine the encoding circuit, the bit-flip error, and the correcting circuit using `.compose(...)`.\n",
    "1. Compare the initial and final statevector.\n",
    "\n",
    "**NOTE**: This is identical to Exercise #4, except a phase-flip error is introduced. Consult previous work or other resources to determine how to implement a phase-flip error in a quantum circuit."
   ]
  },
  {
   "cell_type": "markdown",
   "metadata": {
    "id": "iAYu3GQShhE9"
   },
   "source": [
    "##### **1. Combine the encoding circuit, the bit-flip error, and the correcting circuit using `.compose(...)`.**"
   ]
  },
  {
   "cell_type": "code",
   "execution_count": null,
   "metadata": {
    "id": "vgyZNwAHhhE9"
   },
   "outputs": [],
   "source": [
    "# COMPLETE THIS CODE"
   ]
  },
  {
   "cell_type": "markdown",
   "metadata": {
    "id": "_ZEubiWqhhE9"
   },
   "source": [
    "##### **2. Compare the initial and final statevector.**\n",
    "\n",
    "There are several ways to do this. We have provided two main ways below: using the `equiv(...)` function to calculate if they're equal and drawing the Bloch sphere of each for a visual comparison.\n",
    "\n"
   ]
  },
  {
   "cell_type": "code",
   "execution_count": null,
   "metadata": {
    "id": "_6cWZGBwhhE9"
   },
   "outputs": [],
   "source": [
    "initial_state.equiv(final_state)"
   ]
  },
  {
   "cell_type": "code",
   "execution_count": null,
   "metadata": {
    "id": "EDVFU3kdhhE9"
   },
   "outputs": [],
   "source": [
    "initial_state.draw(output = 'bloch')"
   ]
  },
  {
   "cell_type": "code",
   "execution_count": null,
   "metadata": {
    "id": "IT6FvItUhhE9"
   },
   "outputs": [],
   "source": [
    "final_state.draw(output = 'bloch')"
   ]
  },
  {
   "cell_type": "markdown",
   "metadata": {
    "id": "hxDXsQTth2eU"
   },
   "source": [
    "---\n",
    "### **Part 1.2: The Bit-Flip Code**\n",
    "\n",
    "\n",
    "In this section, we will define two circuits pertaining to the bit-flip code:\n",
    "1. `bitflip_encode`: A 3-qubit bit-flip logical to physical encoding.\n",
    "1. `bitflip_correct`: A 3-qubit bit-flip physical error detection and correction circuit.\n"
   ]
  },
  {
   "cell_type": "markdown",
   "metadata": {
    "id": "PQxP1ZaMh2ee"
   },
   "source": [
    "#### **Exercise #1**\n",
    "\n",
    "Create the `bitflip_encode` circuit that encodes a logical state into a 3-qubit bitflip code. Specifically,\n",
    "\n",
    "1. Initialize a circuit with 3 qubits.\n",
    "\n",
    "2. Entangle the state of $q_0$ with the other qubits."
   ]
  },
  {
   "cell_type": "markdown",
   "metadata": {
    "id": "8ekm7ujkh2ee"
   },
   "source": [
    "##### **1. Initialize a circuit with 3 qubits.**\n",
    "\n",
    "The first qubit, $q_0$, will be the qubit we are correcting. The second and third qubits, $q_1$ and $q_2$, will be ancillary qubits used for correcting the first qubit."
   ]
  },
  {
   "cell_type": "code",
   "execution_count": null,
   "metadata": {
    "id": "RYCOawGth2ee"
   },
   "outputs": [],
   "source": [
    "bitflip_encode = # COMPLETE THIS LINE"
   ]
  },
  {
   "cell_type": "markdown",
   "metadata": {
    "id": "WFDyE3s4h2ef"
   },
   "source": [
    "##### **2. Entangle the state of $q_0$ with the other two qubits.**\n",
    "\n",
    "This can be accomplished by applying two CNOT gates controlled by $q_0$ and targeting the other qubits, $q_1$ and $q_2$."
   ]
  },
  {
   "cell_type": "code",
   "execution_count": null,
   "metadata": {
    "id": "cBP-Z-x_h2ef"
   },
   "outputs": [],
   "source": [
    "bitflip_encode.# COMPLETE THIS LINE\n",
    "bitflip_encode.# COMPLETE THIS LINE"
   ]
  },
  {
   "cell_type": "markdown",
   "metadata": {
    "id": "UlWh543hh2ef"
   },
   "source": [
    "#### **Exercise #2**\n",
    "\n",
    "Create the `bitflip_correct` circuit that detects and corrects errors in a 3-qubit bit-flip code. Specifically,\n",
    "\n",
    "1. Initialize a circuit with 3 qubits.\n",
    "\n",
    "2. Detect any errors by checking that the parity of the 3 qubits match using CNOTs.\n",
    "\n",
    "3. Correct any errors using a Toffoli gate."
   ]
  },
  {
   "cell_type": "markdown",
   "metadata": {
    "id": "BrUjzE0Ch2ef"
   },
   "source": [
    "##### **1. Initialize a circuit with 3 qubits.**\n",
    "\n",
    "The first qubit, $q_0$, will be the qubit we are correcting. The second and third qubits, $q_1$ and $q_2$, will be ancillary qubits used for correcting the first qubit."
   ]
  },
  {
   "cell_type": "code",
   "execution_count": null,
   "metadata": {
    "id": "d37UR7D7h2ef"
   },
   "outputs": [],
   "source": [
    "bitflip_correct = # COMPLETE THIS LINE"
   ]
  },
  {
   "cell_type": "markdown",
   "metadata": {
    "id": "Fm4SkLQfh2ef"
   },
   "source": [
    "##### **2. Detect any errors by checking that the parity of the 3 qubits match using CNOTs.**\n",
    "\n"
   ]
  },
  {
   "cell_type": "code",
   "execution_count": null,
   "metadata": {
    "id": "AybL9cAih2ef"
   },
   "outputs": [],
   "source": [
    "# COMPLETE THIS CODE\n",
    "\n",
    "bitflip_correct.draw()"
   ]
  },
  {
   "cell_type": "markdown",
   "metadata": {
    "id": "iXcWUXlDh2eg"
   },
   "source": [
    "##### **3. Correct any errors using a Toffoli gate.**\n",
    "\n"
   ]
  },
  {
   "cell_type": "code",
   "execution_count": null,
   "metadata": {
    "id": "XI5k1Lwyh2eg"
   },
   "outputs": [],
   "source": [
    "# COMPLETE THIS CODE\n",
    "\n",
    "bitflip_correct.draw()"
   ]
  },
  {
   "cell_type": "markdown",
   "metadata": {
    "id": "qJDHXzFfh2eg"
   },
   "source": [
    "#### **Exercise #3**\n",
    "\n",
    "Simulate the full bit-flip code for the $|0\\rangle$ state without errors as follows:\n",
    "1. Combine the encoding and correcting circuits using `.compose(...)`.\n",
    "1. Compare the initial and final statevector."
   ]
  },
  {
   "cell_type": "markdown",
   "metadata": {
    "id": "cUpz_Ypph2eg"
   },
   "source": [
    "##### **1. Combine the encoding and correcting circuits using `.compose(...)`.**\n",
    "\n",
    "Adapt this step from the phase-flip code developed in Part 1.1 for the bit-flip code we have developed just above. \n",
    "\n",
    "**NOTE**: This is almost entirely just a changle of variable names."
   ]
  },
  {
   "cell_type": "code",
   "execution_count": null,
   "metadata": {
    "id": "9AVAKB8hi6lu"
   },
   "outputs": [],
   "source": []
  },
  {
   "cell_type": "markdown",
   "metadata": {
    "id": "I2610YWph2eg"
   },
   "source": [
    "##### **2. Compare the initial and final statevector.**\n",
    "\n",
    "There are several ways to do this. We have provided two main ways below: using the `equiv(...)` function to calculate if they're equal and drawing the Bloch sphere of each for a visual comparison.\n",
    "\n"
   ]
  },
  {
   "cell_type": "code",
   "execution_count": null,
   "metadata": {
    "id": "F7sUIXrah2eg"
   },
   "outputs": [],
   "source": [
    "initial_state.equiv(final_state)"
   ]
  },
  {
   "cell_type": "code",
   "execution_count": null,
   "metadata": {
    "id": "rpweeYsrh2eg"
   },
   "outputs": [],
   "source": [
    "initial_state.draw(output = 'bloch')"
   ]
  },
  {
   "cell_type": "code",
   "execution_count": null,
   "metadata": {
    "id": "rnm1L6vCh2eg"
   },
   "outputs": [],
   "source": [
    "final_state.draw(output = 'bloch')"
   ]
  },
  {
   "cell_type": "markdown",
   "metadata": {
    "id": "PV7ygQCMh2eh"
   },
   "source": [
    "#### **Exercise #4**\n",
    "\n",
    "Simulate the full bit-flip code for the $|-\\rangle$ state with a *bit-flip error* on qubit 0 as follows:\n",
    "1. Combine the encoding circuit, the bit-flip error, and the correcting circuit using `.compose(...)`.\n",
    "1. Compare the initial and final statevector."
   ]
  },
  {
   "cell_type": "markdown",
   "metadata": {
    "id": "1KonGXLhh2eh"
   },
   "source": [
    "##### **1. Combine the encoding circuit, the bit-flip error, and the correcting circuit using `.compose(...)`.**"
   ]
  },
  {
   "cell_type": "code",
   "execution_count": null,
   "metadata": {
    "id": "g0lOpk77h2eh"
   },
   "outputs": [],
   "source": [
    "# COMPLETE THIS CODE"
   ]
  },
  {
   "cell_type": "markdown",
   "metadata": {
    "id": "rwEaMZ93h2eh"
   },
   "source": [
    "##### **2. Compare the initial and final statevector.**\n",
    "\n",
    "There are several ways to do this. We have provided two main ways below: using the `equiv(...)` function to calculate if they're equal and drawing the Bloch sphere of each for a visual comparison.\n",
    "\n"
   ]
  },
  {
   "cell_type": "code",
   "execution_count": null,
   "metadata": {
    "id": "GDgaNeSAh2eh"
   },
   "outputs": [],
   "source": [
    "initial_state.equiv(final_state)"
   ]
  },
  {
   "cell_type": "code",
   "execution_count": null,
   "metadata": {
    "id": "PGftKaWph2eh"
   },
   "outputs": [],
   "source": [
    "initial_state.draw(output = 'bloch')"
   ]
  },
  {
   "cell_type": "code",
   "execution_count": null,
   "metadata": {
    "id": "Qssx--7uh2eh"
   },
   "outputs": [],
   "source": [
    "final_state.draw(output = 'bloch')"
   ]
  },
  {
   "cell_type": "markdown",
   "metadata": {
    "id": "XsfqWlbWjoeR"
   },
   "source": [
    "#### **Exercise #5**\n",
    "\n",
    "Simulate the full bit-flip code for the $|-\\rangle$ state with a *phase-flip error* on qubit 0 as follows:\n",
    "1. Combine the encoding circuit, the phase-flip error, and the correcting circuit using `.compose(...)`.\n",
    "1. Compare the initial and final statevector."
   ]
  },
  {
   "cell_type": "markdown",
   "metadata": {
    "id": "OXXp3M5vjoeS"
   },
   "source": [
    "##### **1. Combine the encoding circuit, the phase-flip error, and the correcting circuit using `.compose(...)`.**"
   ]
  },
  {
   "cell_type": "code",
   "execution_count": null,
   "metadata": {
    "id": "0pGbR7qcjoeS"
   },
   "outputs": [],
   "source": [
    "# COMPLETE THIS CODE"
   ]
  },
  {
   "cell_type": "markdown",
   "metadata": {
    "id": "3risQzGTjoeT"
   },
   "source": [
    "##### **2. Compare the initial and final statevector.**\n",
    "\n",
    "There are several ways to do this. We have provided two main ways below: using the `equiv(...)` function to calculate if they're equal and drawing the Bloch sphere of each for a visual comparison.\n",
    "\n"
   ]
  },
  {
   "cell_type": "code",
   "execution_count": null,
   "metadata": {
    "id": "6SDjKNlgjoeT"
   },
   "outputs": [],
   "source": [
    "initial_state.equiv(final_state)"
   ]
  },
  {
   "cell_type": "code",
   "execution_count": null,
   "metadata": {
    "id": "Xx50ir4AjoeT"
   },
   "outputs": [],
   "source": [
    "initial_state.draw(output = 'bloch')"
   ]
  },
  {
   "cell_type": "code",
   "execution_count": null,
   "metadata": {
    "id": "6LGMc1dijoeT"
   },
   "outputs": [],
   "source": [
    "final_state.draw(output = 'bloch')"
   ]
  },
  {
   "cell_type": "markdown",
   "metadata": {
    "id": "6rseORvPoT71"
   },
   "source": [
    "## **Part 2: Implementing the Shor Code**\n",
    "---\n",
    "\n",
    "In this section, we will build on the work from the last section to implement Shor's code in full."
   ]
  },
  {
   "cell_type": "markdown",
   "metadata": {
    "id": "mIY1LqazpDa7"
   },
   "source": [
    "### **Exercise #1**\n",
    "\n",
    "Initialize a circuit with the correct number of qubits. It is up to you to determine the correct number based on the description of the code below and any other resources at your disposal.\n",
    "\n",
    "<br>\n",
    "\n",
    "This code can be viewed as two levels of quantum error correction where:\n",
    "1. The logical qubits are first encoded into a 3-qubit phase-flip code.\n",
    "1. Each of the resulting physical qubits are encoded into a 3-qubit bit-flip code."
   ]
  },
  {
   "cell_type": "code",
   "execution_count": null,
   "metadata": {
    "id": "thULw75cphXh"
   },
   "outputs": [],
   "source": [
    "shor_encode = QuantumCircuit(#COMPLETE THIS LINE"
   ]
  },
  {
   "cell_type": "markdown",
   "metadata": {
    "id": "vl3N5QPXppjM"
   },
   "source": [
    "### **Exercise #2**\n",
    "\n",
    "Complete the code below using every 3rd qubit for the phase-flip code."
   ]
  },
  {
   "cell_type": "code",
   "execution_count": null,
   "metadata": {
    "id": "VRUt6V-TqO-C"
   },
   "outputs": [],
   "source": [
    "shor_encode = shor_encode.compose(phaseflip_encode, qubits = [# COMPLETE THIS LINE"
   ]
  },
  {
   "cell_type": "markdown",
   "metadata": {
    "id": "R8l5jIqZrnUL"
   },
   "source": [
    "### **Exercise #3**\n",
    "\n",
    "Complete the code below to encode each of the phase-flip code qubits using their own bit-flip code."
   ]
  },
  {
   "cell_type": "code",
   "execution_count": null,
   "metadata": {
    "id": "NnRyF4A1sQic"
   },
   "outputs": [],
   "source": [
    "shor_encode = shor_encode.compose(bitflip_encode, qubits = # COMPLETE THIS CODE"
   ]
  },
  {
   "cell_type": "markdown",
   "metadata": {
    "id": "H9SSWr8ksdvy"
   },
   "source": [
    "### **Exercise #4**\n",
    "\n",
    "Now, initialize the correcting circuit with the correct number of qubits."
   ]
  },
  {
   "cell_type": "code",
   "execution_count": null,
   "metadata": {
    "id": "EcAti6ids43m"
   },
   "outputs": [],
   "source": [
    "shor_correct = QuantumCircuit(# COMPLETE THIS LINE"
   ]
  },
  {
   "cell_type": "markdown",
   "metadata": {
    "id": "qWHoHs8qs_3S"
   },
   "source": [
    "### **Exercise #5**\n",
    "\n",
    "For the same qubits that you encoded in Exercise #3, correct any bit-flips."
   ]
  },
  {
   "cell_type": "code",
   "execution_count": null,
   "metadata": {
    "id": "kAwuT7S4ti9d"
   },
   "outputs": [],
   "source": [
    "shor_correct = shor_correct.compose(# COMPLETE THIS CODE"
   ]
  },
  {
   "cell_type": "markdown",
   "metadata": {
    "id": "t4pfUZLMtzI0"
   },
   "source": [
    "### **Exercise #6**\n",
    "\n",
    "For the same qubits that you encoded in Exercise #2, correct any phase-flips."
   ]
  },
  {
   "cell_type": "code",
   "execution_count": null,
   "metadata": {
    "id": "z4LeiLe9uHfL"
   },
   "outputs": [],
   "source": [
    "shor_correct = # COMPLETE THIS LINE"
   ]
  },
  {
   "cell_type": "markdown",
   "metadata": {
    "id": "hYr3ijXPuTpd"
   },
   "source": [
    "### **Exercise #7**\n",
    "\n",
    "**Verify your implementation is correct by running the code below.**"
   ]
  },
  {
   "cell_type": "markdown",
   "metadata": {
    "id": "2ob3HvIrumMr"
   },
   "source": [
    "##### **1. Combine the encoding and correcting circuits using `.compose(...)`.**"
   ]
  },
  {
   "cell_type": "code",
   "execution_count": null,
   "metadata": {
    "id": "rTtiEJI0umMs"
   },
   "outputs": [],
   "source": [
    "full_code = QuantumCircuit(9)\n",
    "\n",
    "#==========\n",
    "# ENCODING\n",
    "#==========\n",
    "# Prepare the initial state and save its statevector\n",
    "# Prepare in the |0> state\n",
    "\n",
    "initial_state = Statevector.from_instruction(full_code)\n",
    "initial_state = partial_trace(initial_state, [1, 2, 3, 4, 5, 6, 7, 8]).to_statevector()\n",
    "\n",
    "full_code = full_code.compose(shor_encode, qubits = [0, 1, 2, 3, 4, 5, 6, 7, 8])\n",
    "full_code.barrier()\n",
    "\n",
    "\n",
    "#==========\n",
    "# ERRORS\n",
    "#==========\n",
    "full_code.x(0)\n",
    "full_code.z(0)\n",
    "\n",
    "full_code.barrier()\n",
    "\n",
    "\n",
    "#==========================\n",
    "# DETECTION AND CORRECTION\n",
    "#==========================\n",
    "\n",
    "full_code = full_code.compose(shor_correct, qubits = [0, 1, 2, 3, 4, 5, 6, 7, 8])\n",
    "\n",
    "# Save the final statevector for comparison to the initial one\n",
    "final_state = Statevector.from_instruction(full_code)\n",
    "final_state = partial_trace(final_state, [1, 2, 3, 4, 5, 6, 7, 8]).to_statevector()\n",
    " \n",
    "full_code.draw()"
   ]
  },
  {
   "cell_type": "markdown",
   "metadata": {
    "id": "i-3oq9IDumMs"
   },
   "source": [
    "##### **2. Compare the initial and final statevector.**\n",
    "\n",
    "There are several ways to do this. We have provided two main ways below: using the `equiv(...)` function to calculate if they're equal and drawing the Bloch sphere of each for a visual comparison.\n",
    "\n"
   ]
  },
  {
   "cell_type": "code",
   "execution_count": null,
   "metadata": {
    "id": "4Osa93k8umMs"
   },
   "outputs": [],
   "source": [
    "initial_state.equiv(final_state)"
   ]
  },
  {
   "cell_type": "code",
   "execution_count": null,
   "metadata": {
    "id": "ltcT7mghumMs"
   },
   "outputs": [],
   "source": [
    "initial_state.draw(output = 'bloch')"
   ]
  },
  {
   "cell_type": "code",
   "execution_count": null,
   "metadata": {
    "id": "Pmpz9hS6umMs"
   },
   "outputs": [],
   "source": [
    "final_state.draw(output = 'bloch')"
   ]
  },
  {
   "cell_type": "markdown",
   "metadata": {
    "id": "-xIaaQhtvx3L"
   },
   "source": [
    "### **Exercise #8**\n",
    "\n",
    "By only adjusting the qiskit code in the ERRORS section, determine a way to break this error correcting code (there are many solutions). For reference, there are actually 2 valid ways to break this code: \n",
    "1. The qiskit code runs, but the initial and final states do not match.\n",
    "2. The qiskit code itself doesn't run and gives the following output: ```QiskitError: 'Density matrix is not a pure state'```. \n",
    "\n",
    "\n",
    "\n",
    "**NOTE**: If you're curious, the second error is a sign of a change in the quantum state so serious that the qiskit function for creating the statevector effectively fails. In quantum physics, this particular change is called going from a \"pure state\" to a \"mixed state\"."
   ]
  },
  {
   "cell_type": "markdown",
   "metadata": {
    "id": "ynBpEB44vx3V"
   },
   "source": [
    "##### **1. Combine the encoding and correcting circuits using `.compose(...)`.**"
   ]
  },
  {
   "cell_type": "code",
   "execution_count": null,
   "metadata": {
    "id": "YJc44aEcyEZ1"
   },
   "outputs": [],
   "source": []
  },
  {
   "cell_type": "markdown",
   "metadata": {
    "id": "I_KP3ls3vx3W"
   },
   "source": [
    "##### **2. Compare the initial and final statevector.**\n",
    "\n",
    "There are several ways to do this. We have provided two main ways below: using the `equiv(...)` function to calculate if they're equal and drawing the Bloch sphere of each for a visual comparison.\n",
    "\n"
   ]
  },
  {
   "cell_type": "code",
   "execution_count": null,
   "metadata": {
    "id": "11hihJtAvx3W"
   },
   "outputs": [],
   "source": [
    "initial_state.equiv(final_state)"
   ]
  },
  {
   "cell_type": "code",
   "execution_count": null,
   "metadata": {
    "id": "pJNlIeD3vx3W"
   },
   "outputs": [],
   "source": [
    "initial_state.draw(output = 'bloch')"
   ]
  },
  {
   "cell_type": "code",
   "execution_count": null,
   "metadata": {
    "id": "3sgG9YUkvx3W"
   },
   "outputs": [],
   "source": [
    "final_state.draw(output = 'bloch')"
   ]
  },
  {
   "cell_type": "markdown",
   "metadata": {
    "id": "EAqDiZqxAefq"
   },
   "source": [
    "### **Exercise #9**\n",
    "\n",
    "Simulate the Shor code for bit and phase-flip errors that occur 10% of the time."
   ]
  },
  {
   "cell_type": "markdown",
   "metadata": {
    "id": "2gyyennvAefr"
   },
   "source": [
    "##### **1. Combine the encoding and correcting circuits using `.compose(...)`.**\n",
    "\n",
    "The code below introduces bit and phase-flip errors 50% of the time. Change the necesssary line(s) so that these errors only occur 10% of the time."
   ]
  },
  {
   "cell_type": "code",
   "execution_count": null,
   "metadata": {
    "id": "I3Wfwgj_Aefr"
   },
   "outputs": [],
   "source": [
    "full_code = QuantumCircuit(9)\n",
    "\n",
    "#==========\n",
    "# ENCODING\n",
    "#==========\n",
    "# Prepare the initial state and save its statevector\n",
    "# Prepare in the |0> state\n",
    "\n",
    "initial_state = Statevector.from_instruction(full_code)\n",
    "initial_state = partial_trace(initial_state, [1, 2, 3, 4, 5, 6, 7, 8]).to_statevector()\n",
    "\n",
    "full_code = full_code.compose(shor_encode, qubits = [0, 1, 2, 3, 4, 5, 6, 7, 8])\n",
    "full_code.barrier()\n",
    "\n",
    "\n",
    "#==========\n",
    "# ERRORS\n",
    "#==========\n",
    "\n",
    "for i in range(9):\n",
    "  if random() < 0.50:\n",
    "    full_code.x(i)\n",
    "  if random() < 0.50:\n",
    "    full_code.z(i)\n",
    "\n",
    "full_code.barrier()\n",
    "\n",
    "\n",
    "#==========================\n",
    "# DETECTION AND CORRECTION\n",
    "#==========================\n",
    "\n",
    "full_code = full_code.compose(shor_correct, qubits = [0, 1, 2, 3, 4, 5, 6, 7, 8])\n",
    "\n",
    "# Save the final statevector for comparison to the initial one\n",
    "final_state = Statevector.from_instruction(full_code)\n",
    "final_state = partial_trace(final_state, [1, 2, 3, 4, 5, 6, 7, 8]).to_statevector()\n",
    " \n",
    "full_code.draw()"
   ]
  },
  {
   "cell_type": "markdown",
   "metadata": {
    "id": "u1s6Ur4jAefr"
   },
   "source": [
    "##### **2. Compare the initial and final statevector.**\n",
    "\n",
    "There are several ways to do this. We have provided two main ways below: using the `equiv(...)` function to calculate if they're equal and drawing the Bloch sphere of each for a visual comparison.\n",
    "\n"
   ]
  },
  {
   "cell_type": "code",
   "execution_count": null,
   "metadata": {
    "id": "kUEtNOf7Aefr"
   },
   "outputs": [],
   "source": [
    "initial_state.equiv(final_state)"
   ]
  },
  {
   "cell_type": "code",
   "execution_count": null,
   "metadata": {
    "id": "V8RSAtunAefr"
   },
   "outputs": [],
   "source": [
    "initial_state.draw(output = 'bloch')"
   ]
  },
  {
   "cell_type": "code",
   "execution_count": null,
   "metadata": {
    "id": "nNPhDepxAefr"
   },
   "outputs": [],
   "source": [
    "final_state.draw(output = 'bloch')"
   ]
  },
  {
   "cell_type": "markdown",
   "metadata": {
    "id": "WaHujhfLCSVX"
   },
   "source": [
    "### **Exercise #10**\n",
    "\n",
    "Adjust the code from Exercise #9 to use the variable provided for the probability of an error instead of hardcoding it in."
   ]
  },
  {
   "cell_type": "markdown",
   "metadata": {
    "id": "rP5wojOgCSVY"
   },
   "source": [
    "##### **1. Combine the encoding and correcting circuits using `.compose(...)`.**\n",
    "\n"
   ]
  },
  {
   "cell_type": "code",
   "execution_count": null,
   "metadata": {
    "id": "6XY3wiEfCSVY"
   },
   "outputs": [],
   "source": [
    "probability = 0.10\n",
    "\n",
    "# COMPLETE THIS CODE"
   ]
  },
  {
   "cell_type": "markdown",
   "metadata": {
    "id": "sbduhHKLCSVY"
   },
   "source": [
    "##### **2. Compare the initial and final statevector.**\n",
    "\n",
    "There are several ways to do this. We have provided two main ways below: using the `equiv(...)` function to calculate if they're equal and drawing the Bloch sphere of each for a visual comparison.\n",
    "\n"
   ]
  },
  {
   "cell_type": "code",
   "execution_count": null,
   "metadata": {
    "id": "eOAFdbNNCSVY"
   },
   "outputs": [],
   "source": [
    "initial_state.equiv(final_state)"
   ]
  },
  {
   "cell_type": "code",
   "execution_count": null,
   "metadata": {
    "id": "XnrU9QxlCSVZ"
   },
   "outputs": [],
   "source": [
    "initial_state.draw(output = 'bloch')"
   ]
  },
  {
   "cell_type": "code",
   "execution_count": null,
   "metadata": {
    "id": "FB879VBWCSVZ"
   },
   "outputs": [],
   "source": [
    "final_state.draw(output = 'bloch')"
   ]
  },
  {
   "cell_type": "markdown",
   "metadata": {
    "id": "C6GhjbBIzZVv"
   },
   "source": [
    "## **Part 3: Analzying the Shor Code**\n",
    "---\n",
    "\n",
    "In this section, we will learn how to analyze error correction simulations using a very important measurement in quantum physics: **state fidelity**. This measures how close two quantum states are to each other on a scale of 0 (completely different) to 1 (the same).\n",
    "\n",
    "**Run the code below to calculate the fidelity between two qubits that are both in the $|0\\rangle$ state (represented in vector notation).**"
   ]
  },
  {
   "cell_type": "code",
   "execution_count": null,
   "metadata": {
    "id": "XKI8Mctx70nj"
   },
   "outputs": [],
   "source": [
    "state_fidelity([1, 0], [1, 0])"
   ]
  },
  {
   "cell_type": "markdown",
   "metadata": {
    "id": "Qg7fBaAP7rD7"
   },
   "source": [
    "### **Exercise #1**\n",
    "\n",
    "Calculate the state fidelity between the $|0\\rangle$ and $|1\\rangle$ states."
   ]
  },
  {
   "cell_type": "code",
   "execution_count": null,
   "metadata": {
    "id": "_IrvEcu58gH5"
   },
   "outputs": [],
   "source": [
    "state_fidelity(# COMPLETE THIS CODE"
   ]
  },
  {
   "cell_type": "markdown",
   "metadata": {
    "id": "CRDqZPYQ8mjt"
   },
   "source": [
    "### **Exercise #2**\n",
    "\n",
    "Calculate the state fidelity between the $|1\\rangle$ and $|0\\rangle$ states to determine if the order of states matters."
   ]
  },
  {
   "cell_type": "code",
   "execution_count": null,
   "metadata": {
    "id": "U9JNqbQT8mju"
   },
   "outputs": [],
   "source": [
    "state_fidelity(# COMPLETE THIS CODE"
   ]
  },
  {
   "cell_type": "markdown",
   "metadata": {
    "id": "dzuXYPZm8vTJ"
   },
   "source": [
    "### **Exercise #3**\n",
    "\n",
    "Calculate the state fidelity between the $|0\\rangle$ and $|+\\rangle$ states.\n",
    "\n",
    "**NOTE**: You may need to consult lessons from earlier in the year or other resources to determine the vector representation of the $|+\\rangle state."
   ]
  },
  {
   "cell_type": "code",
   "execution_count": null,
   "metadata": {
    "id": "s0UTzqAp8vTK"
   },
   "outputs": [],
   "source": [
    "state_fidelity(# COMPLETE THIS CODE"
   ]
  },
  {
   "cell_type": "markdown",
   "metadata": {
    "id": "9aTq5Ddz9E8o"
   },
   "source": [
    "### **Exercise #4**\n",
    "\n",
    "Calculate the state fidelity between the $|0\\rangle$ and $|-\\rangle$ states."
   ]
  },
  {
   "cell_type": "code",
   "execution_count": null,
   "metadata": {
    "id": "BgBLM6lw9E8o"
   },
   "outputs": [],
   "source": [
    "state_fidelity(# COMPLETE THIS CODE"
   ]
  },
  {
   "cell_type": "markdown",
   "metadata": {
    "id": "9HOcSbIb9Lgd"
   },
   "source": [
    "### **Exercise #5**\n",
    "\n",
    "Complete the code below to calculate the state fidelity between the $|1\\rangle$ and $|-\\rangle$ states."
   ]
  },
  {
   "cell_type": "code",
   "execution_count": null,
   "metadata": {
    "id": "0lo4YvjN9Lge"
   },
   "outputs": [],
   "source": [
    "qc = QuantumCircuit(1)\n",
    "qc.x(0)\n",
    "initial_state = Statevector.from_instruction(qc)\n",
    "\n",
    "# COMPLETE THIS LINE\n",
    "final_state = Statevector.from_instruction(qc)\n",
    "\n",
    "state_fidelity(initial_state, final_state)"
   ]
  },
  {
   "cell_type": "markdown",
   "metadata": {
    "id": "R_tOvuiP_NQN"
   },
   "source": [
    "### **Exercise #6**\n",
    "\n",
    "Write code to calculate the state fidelity between the $|00\\rangle$ and $|\\beta_{00}\\rangle = \\frac{1}{\\sqrt 2}(|00\\rangle + |11\\rangle)$ states."
   ]
  },
  {
   "cell_type": "code",
   "execution_count": null,
   "metadata": {
    "id": "CsOPHVQA_NQN"
   },
   "outputs": [],
   "source": []
  },
  {
   "cell_type": "markdown",
   "metadata": {
    "id": "GMAMU_vd_0Hi"
   },
   "source": [
    "### **Exercise #7**\n",
    "\n",
    "Write code to calculate the state fidelity between the initial and final states from Exercise #7 of Part 2. Specifically, copy and paste your solution below and modify it as needed.\n",
    "\n",
    "**Question**: Given that these states are from before and after using an error correction scheme, do we want the state fidelity to be 0, 1, or something in between?"
   ]
  },
  {
   "cell_type": "code",
   "execution_count": null,
   "metadata": {
    "id": "LYitEKN2_0Hj"
   },
   "outputs": [],
   "source": []
  },
  {
   "cell_type": "markdown",
   "metadata": {
    "id": "7MBjfPl4AH9r"
   },
   "source": [
    "### **Exercise #8**\n",
    "\n",
    "Write code to calculate the state fidelity between the initial and final states from Exercise #10 of Part 2. Specifically, copy and paste your solution below and modify it as needed.\n",
    "\n",
    "**Question**: If the probability is increased, what tends to happen to the fidelity? Test this out by altering your solution below as needed."
   ]
  },
  {
   "cell_type": "code",
   "execution_count": null,
   "metadata": {
    "id": "kCk0FtYUAH9r"
   },
   "outputs": [],
   "source": []
  },
  {
   "cell_type": "markdown",
   "metadata": {
    "id": "I-ldMcABC38B"
   },
   "source": [
    "### **Exercise #9**\n",
    "\n",
    "Write a function that takes in a paramater, `probability`, and returns the fidelity before and after running the Shor code with errors that occur with the given probability.\n",
    "\n",
    "\n",
    "**Hint**. This will look very similar to Exercise #8."
   ]
  },
  {
   "cell_type": "code",
   "execution_count": null,
   "metadata": {
    "id": "5UpmPROYC38B"
   },
   "outputs": [],
   "source": [
    "def get_fidelity(probability):\n",
    "\n",
    "  # COMPLETE THIS CODE"
   ]
  },
  {
   "cell_type": "markdown",
   "metadata": {
    "id": "qv6bDNvMDrPA"
   },
   "source": [
    "### **Exercise #10**\n",
    "\n",
    "The code provided below graphs the *average* state fidelity using the Shor code with increasing probability of errors. You will use this to answer several final questions in your project summary.\n",
    "\n",
    "**NOTE**: Be patient! This may take up to a minute to run since it is simulating many quantum circuits (technically `num_points` * `num_trials_per_point` circuits)."
   ]
  },
  {
   "cell_type": "code",
   "execution_count": null,
   "metadata": {
    "id": "oEiRsPl6FitB"
   },
   "outputs": [],
   "source": [
    "num_points = 50\n",
    "num_trials_per_point = 100\n",
    "average_fidelities_shor = []\n",
    "probabilities = [p / num_points for p in range(num_points)]\n",
    "\n",
    "for probability in probabilities:\n",
    "\n",
    "  average_fidelity = 0\n",
    "  for trial in range(num_trials_per_point):\n",
    "    average_fidelity += get_fidelity(probability)\n",
    "\n",
    "  average_fidelity /= num_trials_per_point\n",
    "  \n",
    "  average_fidelities_shor  += [average_fidelity]\n",
    "\n",
    "\n",
    "\n",
    "plt.figure(figsize = (11, 8))\n",
    "plt.scatter(probabilities, average_fidelities_shor, label = 'Shor Code', color = 'orange')\n",
    "plt.plot(probabilities, [(1 - p)**2 for p in probabilities], label = 'Without Error Correction', color = 'blue')\n",
    "\n",
    "\n",
    "plt.title(\"Average Fidelity Using the Shor Code\", fontsize = 'x-large')\n",
    "plt.xlabel(\"Probability of an Error\", fontsize = 'x-large')\n",
    "plt.ylabel(\"Average Fidelity\", fontsize = 'x-large')\n",
    "plt.legend()\n",
    "plt.show()"
   ]
  },
  {
   "cell_type": "markdown",
   "metadata": {
    "id": "BFajMb7xEL0B"
   },
   "source": [
    "## **Wrapping Up**\n",
    "\n",
    "*Congratulations!* You have implemented and analyzed the Shor code in qiskit -- no small feat. To wrap up, please make sure to write a summary of the concepts covered here, including answers to the following questions:\n",
    "\n",
    "1. How does using the Shor code compare to using no error correction? Are there any trends you notice?\n",
    "\n",
    "1. When using the Shor code, how does the average fidelity change with increasing probability of errors? Why is this?\n",
    "\n",
    "1. Are there any unexpected patterns in the average fidelity? Why do you think they might be happening if so?"
   ]
  },
  {
   "cell_type": "markdown",
   "metadata": {
    "id": "BF1dNzrLntod"
   },
   "source": [
    "# End of Lab\n",
    "\n",
    "---\n",
    "\n",
    "© 2023 The Coding School, All rights reserved"
   ]
  }
 ],
 "metadata": {
  "colab": {
   "provenance": []
  },
  "kernelspec": {
   "display_name": "Python 3 (ipykernel)",
   "language": "python",
   "name": "python3"
  },
  "language_info": {
   "codemirror_mode": {
    "name": "ipython",
    "version": 3
   },
   "file_extension": ".py",
   "mimetype": "text/x-python",
   "name": "python",
   "nbconvert_exporter": "python",
   "pygments_lexer": "ipython3",
   "version": "3.10.8"
  },
  "widgets": {
   "application/vnd.jupyter.widget-state+json": {
    "state": {},
    "version_major": 2,
    "version_minor": 0
   }
  }
 },
 "nbformat": 4,
 "nbformat_minor": 4
}
